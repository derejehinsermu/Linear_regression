{
 "cells": [
  {
   "cell_type": "code",
   "execution_count": 1,
   "metadata": {},
   "outputs": [],
   "source": [
    "import numpy as np\n",
    "import pandas\n"
   ]
  },
  {
   "cell_type": "code",
   "execution_count": 14,
   "metadata": {},
   "outputs": [],
   "source": [
    "x= np.array([[1,3],[5,18],[3,9],[24,90],[7,15],[8,18],[13,30],[1,3],[4,16],[2,4],[4,18.5],[5,\n",
    "                         10],[6,13],[1.8,6],[10,99],[9,79],[8.6,65],[13,150],[1,6],[4,11]])"
   ]
  },
  {
   "cell_type": "code",
   "execution_count": 15,
   "metadata": {},
   "outputs": [
    {
     "data": {
      "text/plain": [
       "array([[  1. ,   3. ],\n",
       "       [  5. ,  18. ],\n",
       "       [  3. ,   9. ],\n",
       "       [ 24. ,  90. ],\n",
       "       [  7. ,  15. ],\n",
       "       [  8. ,  18. ],\n",
       "       [ 13. ,  30. ],\n",
       "       [  1. ,   3. ],\n",
       "       [  4. ,  16. ],\n",
       "       [  2. ,   4. ],\n",
       "       [  4. ,  18.5],\n",
       "       [  5. ,  10. ],\n",
       "       [  6. ,  13. ],\n",
       "       [  1.8,   6. ],\n",
       "       [ 10. ,  99. ],\n",
       "       [  9. ,  79. ],\n",
       "       [  8.6,  65. ],\n",
       "       [ 13. , 150. ],\n",
       "       [  1. ,   6. ],\n",
       "       [  4. ,  11. ]])"
      ]
     },
     "execution_count": 15,
     "metadata": {},
     "output_type": "execute_result"
    }
   ],
   "source": [
    "x"
   ]
  },
  {
   "cell_type": "code",
   "execution_count": 16,
   "metadata": {},
   "outputs": [
    {
     "name": "stdout",
     "output_type": "stream",
     "text": [
      "[[ 1. ]\n",
      " [ 5. ]\n",
      " [ 3. ]\n",
      " [24. ]\n",
      " [ 7. ]\n",
      " [ 8. ]\n",
      " [13. ]\n",
      " [ 1. ]\n",
      " [ 4. ]\n",
      " [ 2. ]\n",
      " [ 4. ]\n",
      " [ 5. ]\n",
      " [ 6. ]\n",
      " [ 1.8]\n",
      " [10. ]\n",
      " [ 9. ]\n",
      " [ 8.6]\n",
      " [13. ]\n",
      " [ 1. ]\n",
      " [ 4. ]]\n"
     ]
    }
   ],
   "source": [
    "input= np.array([[x]  for x in np.array(x[:,0])])\n",
    "print(np.array(input))\n"
   ]
  },
  {
   "cell_type": "code",
   "execution_count": 17,
   "metadata": {},
   "outputs": [
    {
     "data": {
      "text/plain": [
       "array([[  3. ],\n",
       "       [ 18. ],\n",
       "       [  9. ],\n",
       "       [ 90. ],\n",
       "       [ 15. ],\n",
       "       [ 18. ],\n",
       "       [ 30. ],\n",
       "       [  3. ],\n",
       "       [ 16. ],\n",
       "       [  4. ],\n",
       "       [ 18.5],\n",
       "       [ 10. ],\n",
       "       [ 13. ],\n",
       "       [  6. ],\n",
       "       [ 99. ],\n",
       "       [ 79. ],\n",
       "       [ 65. ],\n",
       "       [150. ],\n",
       "       [  6. ],\n",
       "       [ 11. ]])"
      ]
     },
     "execution_count": 17,
     "metadata": {},
     "output_type": "execute_result"
    }
   ],
   "source": [
    "output= np.array([[x]  for x in np.array(x[:,1])])\n",
    "output"
   ]
  },
  {
   "cell_type": "code",
   "execution_count": 18,
   "metadata": {},
   "outputs": [],
   "source": [
    "import matplotlib.pyplot as plt\n",
    "%matplotlib inline"
   ]
  },
  {
   "cell_type": "code",
   "execution_count": 19,
   "metadata": {},
   "outputs": [
    {
     "data": {
      "text/plain": [
       "<matplotlib.collections.PathCollection at 0x7fb7066686d8>"
      ]
     },
     "execution_count": 19,
     "metadata": {},
     "output_type": "execute_result"
    },
    {
     "data": {
      "image/png": "[encoded data removed]",
      "text/plain": [
       "<Figure size 432x288 with 1 Axes>"
      ]
     },
     "metadata": {
      "needs_background": "light"
     },
     "output_type": "display_data"
    }
   ],
   "source": [
    "plt.scatter(input,output)"
   ]
  },
  {
   "cell_type": "code",
   "execution_count": 26,
   "metadata": {},
   "outputs": [],
   "source": [
    "class LinearRegression:\n",
    "    def __init__(self, iteration=10, learning_rate=0.01):\n",
    "        self.iterat=iteration\n",
    "        self.lr=learning_rate\n",
    "        \n",
    "        self.weights=None\n",
    "        self.bias=None\n",
    "        \n",
    "    def fit(self, input_X, output_Y):\n",
    "        nrecords, nfeatures = input_X.shape\n",
    "        \n",
    "        print(\"records= \", nrecords, \"  features= \", nfeatures)\n",
    "        self.weights= np.zeros(nfeatures)\n",
    "        \n",
    "        self.bias=0.0\n",
    "        fig= plt.figure()\n",
    "        f= fig.add_subplot(111)\n",
    "        f.scatter(input,output)\n",
    "        \n",
    "        for it in range(self.iterat):\n",
    "            model = input_X * self.weights + self.bias  # model= np.dot(input_X, self.weights) + self.bias        \n",
    "            loss= (1/nrecords)* np.sum((model- output_Y)**2)\n",
    "            \n",
    "            dw = (1/nrecords)*self.lr*2*np.dot(np.transpose(input_X),(model-output_Y))\n",
    "            db = (1/nrecords)*self.lr*2*np.sum(model-output_Y) \n",
    "        \n",
    "            self.weights =  self.weights- dw\n",
    "            self.bias = self.bias-db\n",
    "            \n",
    "            print(\"-------> iteration number: \",it,\"  Loss: \",loss)\n",
    "            print(\"-------> weights: \",self.weights)    \n",
    " \n",
    "\n",
    "            y=self.predict(input)\n",
    "\n",
    "            if it%40==0 or it== self.iterat-1:\n",
    "                f.plot(input,y,color=\"red\", alpha=self.iterat/(it+1))\n",
    "      \n",
    "\n",
    "    def predict(self, input_X):\n",
    "#         return (input_X * self.weights  + self.bias)[:,0]\n",
    "        return (np.dot(input_X ,self.weights) + self.bias)[:,0]\n"
   ]
  },
  {
   "cell_type": "code",
   "execution_count": 27,
   "metadata": {},
   "outputs": [],
   "source": [
    "model= LinearRegression(iteration=40)"
   ]
  },
  {
   "cell_type": "code",
   "execution_count": 28,
   "metadata": {},
   "outputs": [
    {
     "name": "stdout",
     "output_type": "stream",
     "text": [
      "records=  20   features=  1\n",
      "-------> iteration number:  0   Loss:  2690.7625000000003\n",
      "-------> weights:  [[7.4668]]\n",
      "-------> iteration number:  1   Loss:  1137.3149522644005\n",
      "-------> weights:  [[4.13072824]]\n",
      "-------> iteration number:  2   Loss:  826.7350719533275\n",
      "-------> weights:  [[5.62476334]]\n",
      "-------> iteration number:  3   Loss:  764.6196376595743\n",
      "-------> weights:  [[4.9591653]]\n",
      "-------> iteration number:  4   Loss:  752.1756289136528\n",
      "-------> weights:  [[5.2591523]]\n",
      "-------> iteration number:  5   Loss:  749.6619531187162\n",
      "-------> weights:  [[5.12739238]]\n",
      "-------> iteration number:  6   Loss:  749.1338870573253\n",
      "-------> weights:  [[5.18865385]]\n",
      "-------> iteration number:  7   Loss:  749.0031794719022\n",
      "-------> weights:  [[5.16359356]]\n",
      "-------> iteration number:  8   Loss:  748.9523134469771\n",
      "-------> weights:  [[5.17711018]]\n",
      "-------> iteration number:  9   Loss:  748.917807059916\n",
      "-------> weights:  [[5.1733598]]\n",
      "-------> iteration number:  10   Loss:  748.8869631050558\n",
      "-------> weights:  [[5.17731121]]\n",
      "-------> iteration number:  11   Loss:  748.8572369480885\n",
      "-------> weights:  [[5.17780065]]\n",
      "-------> iteration number:  12   Loss:  748.8281136759438\n",
      "-------> weights:  [[5.17981974]]\n",
      "-------> iteration number:  13   Loss:  748.7994842409481\n",
      "-------> weights:  [[5.18113681]]\n",
      "-------> iteration number:  14   Loss:  748.7713208311463\n",
      "-------> weights:  [[5.18274982]]\n",
      "-------> iteration number:  15   Loss:  748.7436119713888\n",
      "-------> weights:  [[5.18421271]]\n",
      "-------> iteration number:  16   Loss:  748.7163495477091\n",
      "-------> weights:  [[5.18572506]]\n",
      "-------> iteration number:  17   Loss:  748.6895262118088\n",
      "-------> weights:  [[5.18719778]]\n",
      "-------> iteration number:  18   Loss:  748.6631348606735\n",
      "-------> weights:  [[5.18867084]]\n",
      "-------> iteration number:  19   Loss:  748.6371685310564\n",
      "-------> weights:  [[5.19012652]]\n",
      "-------> iteration number:  20   Loss:  748.6116203769245\n",
      "-------> weights:  [[5.19157288]]\n",
      "-------> iteration number:  21   Loss:  748.5864836635105\n",
      "-------> weights:  [[5.19300644]]\n",
      "-------> iteration number:  22   Loss:  748.5617517647103\n",
      "-------> weights:  [[5.19442891]]\n",
      "-------> iteration number:  23   Loss:  748.53741816117\n",
      "-------> weights:  [[5.19583966]]\n",
      "-------> iteration number:  24   Loss:  748.5134764385353\n",
      "-------> weights:  [[5.1972391]]\n",
      "-------> iteration number:  25   Loss:  748.489920285754\n",
      "-------> weights:  [[5.19862718]]\n",
      "-------> iteration number:  26   Loss:  748.4667434934098\n",
      "-------> weights:  [[5.20000406]]\n",
      "-------> iteration number:  27   Loss:  748.4439399520862\n",
      "-------> weights:  [[5.2013698]]\n",
      "-------> iteration number:  28   Loss:  748.4215036507568\n",
      "-------> weights:  [[5.2027245]]\n",
      "-------> iteration number:  29   Loss:  748.399428675199\n",
      "-------> weights:  [[5.20406825]]\n",
      "-------> iteration number:  30   Loss:  748.3777092064363\n",
      "-------> weights:  [[5.20540113]]\n",
      "-------> iteration number:  31   Loss:  748.3563395192036\n",
      "-------> weights:  [[5.20672323]]\n",
      "-------> iteration number:  32   Loss:  748.3353139804389\n",
      "-------> weights:  [[5.20803465]]\n",
      "-------> iteration number:  33   Loss:  748.3146270477976\n",
      "-------> weights:  [[5.20933547]]\n",
      "-------> iteration number:  34   Loss:  748.294273268192\n",
      "-------> weights:  [[5.21062576]]\n",
      "-------> iteration number:  35   Loss:  748.2742472763539\n",
      "-------> weights:  [[5.21190563]]\n",
      "-------> iteration number:  36   Loss:  748.2545437934198\n",
      "-------> weights:  [[5.21317515]]\n",
      "-------> iteration number:  37   Loss:  748.2351576255401\n",
      "-------> weights:  [[5.2144344]]\n",
      "-------> iteration number:  38   Loss:  748.216083662509\n",
      "-------> weights:  [[5.21568347]]\n",
      "-------> iteration number:  39   Loss:  748.1973168764193\n",
      "-------> weights:  [[5.21692245]]\n"
     ]
    },
    {
     "data": {
      "image/png": "[encoded data removed]",
      "text/plain": [
       "<Figure size 432x288 with 1 Axes>"
      ]
     },
     "metadata": {
      "needs_background": "light"
     },
     "output_type": "display_data"
    }
   ],
   "source": [
    "model.fit(np.array(input),np.array(output))"
   ]
  },
  {
   "cell_type": "code",
   "execution_count": 23,
   "metadata": {},
   "outputs": [],
   "source": [
    "y=model.predict(input)"
   ]
  },
  {
   "cell_type": "code",
   "execution_count": 24,
   "metadata": {},
   "outputs": [
    {
     "name": "stdout",
     "output_type": "stream",
     "text": [
      "(20,) (20, 1)\n"
     ]
    },
    {
     "data": {
      "text/plain": [
       "[<matplotlib.lines.Line2D at 0x7fb7066b0a20>]"
      ]
     },
     "execution_count": 24,
     "metadata": {},
     "output_type": "execute_result"
    },
    {
     "data": {
      "image/png": "[encoded data removed]",
      "text/plain": [
       "<Figure size 432x288 with 1 Axes>"
      ]
     },
     "metadata": {
      "needs_background": "light"
     },
     "output_type": "display_data"
    }
   ],
   "source": [
    "plt.scatter(input,output)\n",
    "print(y.shape, input.shape) \n",
    "plt.scatter(input,y,color=\"red\")\n",
    "plt.plot(input,y,color=\"green\")"
   ]
  },
  {
   "cell_type": "code",
   "execution_count": 25,
   "metadata": {},
   "outputs": [
    {
     "data": {
      "text/plain": [
       "array([229.37774674])"
      ]
     },
     "execution_count": 25,
     "metadata": {},
     "output_type": "execute_result"
    }
   ],
   "source": [
    "model.predict(44)\n"
   ]
  },
  {
   "cell_type": "code",
   "execution_count": null,
   "metadata": {},
   "outputs": [],
   "source": []
  },
  {
   "cell_type": "code",
   "execution_count": null,
   "metadata": {},
   "outputs": [],
   "source": []
  }
 ],
 "metadata": {
  "kernelspec": {
   "display_name": "Python 3",
   "language": "python",
   "name": "python3"
  },
  "language_info": {
   "codemirror_mode": {
    "name": "ipython",
    "version": 3
   },
   "file_extension": ".py",
   "mimetype": "text/x-python",
   "name": "python",
   "nbconvert_exporter": "python",
   "pygments_lexer": "ipython3",
   "version": "3.6.9"
  }
 },
 "nbformat": 4,
 "nbformat_minor": 4
}
